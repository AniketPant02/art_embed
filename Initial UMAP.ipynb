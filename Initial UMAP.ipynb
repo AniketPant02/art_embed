{
 "cells": [
  {
   "cell_type": "markdown",
   "id": "7c5154fb-a3e7-4dd7-9d5b-929458ac2db2",
   "metadata": {},
   "source": [
    "# Initial UMAP\n",
    "\n",
    "This is an initial attempt on doing UMAP on my dataset of images. This will be upstreamed to a basic Dash frontend.\n",
    "\n",
    "*Aniket Pant, Personal*"
   ]
  },
  {
   "cell_type": "code",
   "execution_count": 1,
   "id": "88a30b5d-b776-47cf-a342-60e2d3e001aa",
   "metadata": {},
   "outputs": [
    {
     "name": "stderr",
     "output_type": "stream",
     "text": [
      "/opt/conda/lib/python3.10/site-packages/umap/distances.py:1063: NumbaDeprecationWarning: The 'nopython' keyword argument was not supplied to the 'numba.jit' decorator. The implicit default value for this argument is currently False, but it will be changed to True in Numba 0.59.0. See https://numba.readthedocs.io/en/stable/reference/deprecation.html#deprecation-of-object-mode-fall-back-behaviour-when-using-jit for details.\n",
      "  @numba.jit()\n",
      "/opt/conda/lib/python3.10/site-packages/umap/distances.py:1071: NumbaDeprecationWarning: The 'nopython' keyword argument was not supplied to the 'numba.jit' decorator. The implicit default value for this argument is currently False, but it will be changed to True in Numba 0.59.0. See https://numba.readthedocs.io/en/stable/reference/deprecation.html#deprecation-of-object-mode-fall-back-behaviour-when-using-jit for details.\n",
      "  @numba.jit()\n",
      "/opt/conda/lib/python3.10/site-packages/umap/distances.py:1086: NumbaDeprecationWarning: The 'nopython' keyword argument was not supplied to the 'numba.jit' decorator. The implicit default value for this argument is currently False, but it will be changed to True in Numba 0.59.0. See https://numba.readthedocs.io/en/stable/reference/deprecation.html#deprecation-of-object-mode-fall-back-behaviour-when-using-jit for details.\n",
      "  @numba.jit()\n",
      "/opt/conda/lib/python3.10/site-packages/tqdm/auto.py:21: TqdmWarning: IProgress not found. Please update jupyter and ipywidgets. See https://ipywidgets.readthedocs.io/en/stable/user_install.html\n",
      "  from .autonotebook import tqdm as notebook_tqdm\n",
      "/opt/conda/lib/python3.10/site-packages/umap/umap_.py:660: NumbaDeprecationWarning: The 'nopython' keyword argument was not supplied to the 'numba.jit' decorator. The implicit default value for this argument is currently False, but it will be changed to True in Numba 0.59.0. See https://numba.readthedocs.io/en/stable/reference/deprecation.html#deprecation-of-object-mode-fall-back-behaviour-when-using-jit for details.\n",
      "  @numba.jit()\n"
     ]
    }
   ],
   "source": [
    "import os\n",
    "import numpy as np\n",
    "from PIL import Image\n",
    "import matplotlib.pyplot as plt\n",
    "import umap.umap_ as umap\n",
    "from sklearn.preprocessing import StandardScaler\n",
    "from tqdm import tqdm\n",
    "from sklearn import preprocessing\n",
    "from concurrent.futures import ThreadPoolExecutor"
   ]
  },
  {
   "cell_type": "code",
   "execution_count": 2,
   "id": "103b5016-afe5-42d8-b53b-5f5d87c3f6ab",
   "metadata": {},
   "outputs": [],
   "source": [
    "def process_image(image_path, label, size=(128, 128)):\n",
    "    # Open image\n",
    "    img = Image.open(image_path)\n",
    "    # Resize image\n",
    "    img = img.resize(size)\n",
    "    # Normalize pixel values to be between 0 and 1\n",
    "    img_array = np.array(img) / 255.0\n",
    "    # Flatten the image\n",
    "    flat_img_array = img_array.flatten()\n",
    "\n",
    "    return flat_img_array, label, image_path\n",
    "\n",
    "def load_and_process_images(path, size=(128, 128)):\n",
    "    image_files = []\n",
    "    labels = []\n",
    "    image_paths = []\n",
    "\n",
    "    # List directories in the path\n",
    "    dirs = os.listdir(path)\n",
    "    print(f\"Found directories: {dirs}\")\n",
    "    print(f\"-–––––-––––––––––-–––––-––––––––––-–––––-––––––––––\")\n",
    "\n",
    "    with ThreadPoolExecutor(max_workers=5) as executor:\n",
    "        # Iterate through directories\n",
    "        for dir in dirs:\n",
    "            full_path = os.path.join(path, dir)\n",
    "            image_list = os.listdir(full_path)\n",
    "            # Iterate through images\n",
    "            for image_path in tqdm(image_list[0:200]):\n",
    "                if image_path.endswith(\".jpg\"):\n",
    "                    full_image_path = os.path.join(full_path, image_path)\n",
    "                    # Process image in a separate thread\n",
    "                    future = executor.submit(process_image, full_image_path, dir, size)\n",
    "                    # When done, append the result to the lists\n",
    "                    result = future.result()\n",
    "                    image_files.append(result[0])\n",
    "                    labels.append(result[1])\n",
    "                    image_paths.append(result[2])\n",
    "\n",
    "    return image_files, labels, image_paths"
   ]
  },
  {
   "cell_type": "code",
   "execution_count": null,
   "id": "7b4ef21e-7067-4590-b3b4-71f2954d34e1",
   "metadata": {},
   "outputs": [
    {
     "name": "stdout",
     "output_type": "stream",
     "text": [
      "Found directories: ['New_Realism', 'Mannerism_Late_Renaissance', 'Synthetic_Cubism', 'Symbolism', 'Impressionism', 'Fauvism', 'Cubism', 'Romanticism', 'Analytical_Cubism', 'Pointillism', 'Realism', 'Art_Nouveau_Modern', 'Ukiyo_e', 'Abstract_Expressionism', 'Expressionism', 'Contemporary_Realism', 'Action_painting', 'Northern_Renaissance', 'Baroque', 'Post_Impressionism', 'Rococo', 'Early_Renaissance', 'Minimalism', 'Naive_Art_Primitivism', 'High_Renaissance', 'Color_Field_Painting', 'Pop_Art']\n",
      "-–––––-––––––––––-–––––-––––––––––-–––––-––––––––––\n"
     ]
    },
    {
     "name": "stderr",
     "output_type": "stream",
     "text": [
      "100%|██████████| 314/314 [00:18<00:00, 17.29it/s]\n",
      "100%|██████████| 1279/1279 [01:16<00:00, 16.73it/s]\n",
      "100%|██████████| 216/216 [00:09<00:00, 23.24it/s]\n",
      "100%|██████████| 4528/4528 [03:37<00:00, 20.79it/s]\n",
      "100%|██████████| 13060/13060 [10:03<00:00, 21.62it/s]\n",
      "100%|██████████| 934/934 [00:29<00:00, 31.60it/s]\n",
      "100%|██████████| 2235/2235 [01:23<00:00, 26.92it/s]\n",
      "100%|██████████| 7019/7019 [05:50<00:00, 20.04it/s]\n",
      "100%|██████████| 110/110 [00:03<00:00, 34.40it/s]\n",
      "100%|██████████| 513/513 [00:24<00:00, 21.08it/s]\n",
      " 86%|████████▌ | 9204/10733 [14:33<6:29:45, 15.29s/it] "
     ]
    }
   ],
   "source": [
    "path = \"wikiart\"  # your path here\n",
    "image_files, labels, image_paths = load_and_process_images(path)"
   ]
  },
  {
   "cell_type": "code",
   "execution_count": null,
   "id": "0d5eebe9-ca3e-4e91-8a5d-991259a24d01",
   "metadata": {},
   "outputs": [],
   "source": [
    "def perform_umap(image_files, n_neighbors=15, min_dist=0.1, n_components=2):\n",
    "    # Scale data for zero mean and unit variance\n",
    "    image_files = StandardScaler().fit_transform(image_files)\n",
    "    \n",
    "    # Run UMAP\n",
    "    reducer = umap.UMAP(n_neighbors=n_neighbors, min_dist=min_dist, n_components=n_components)\n",
    "    embedding = reducer.fit_transform(image_files)\n",
    "\n",
    "    return embedding"
   ]
  },
  {
   "cell_type": "code",
   "execution_count": null,
   "id": "af062797-e637-4a6b-b56c-f2f9ae0a8fb3",
   "metadata": {},
   "outputs": [],
   "source": [
    "embeddings = perform_umap(image_files)"
   ]
  },
  {
   "cell_type": "code",
   "execution_count": null,
   "id": "04e4948a-963b-4242-9533-7a64c3f0fc58",
   "metadata": {},
   "outputs": [],
   "source": [
    "def plot_embeddings(embeddings, labels):\n",
    "    plt.figure(figsize=(6, 4))\n",
    "\n",
    "    le = preprocessing.LabelEncoder()\n",
    "    classes = le.fit_transform(labels)\n",
    "\n",
    "    # Create a scatter plot\n",
    "    plt.scatter(embeddings[:, 0], embeddings[:, 1], c = classes, s = 1, alpha = 0.3)\n",
    "\n",
    "    # Label the points\n",
    "    # for i, label in enumerate(labels):\n",
    "    #     plt.annotate(label, (embeddings[i, 0], embeddings[i, 1]))\n",
    "    plt.colorbar()\n",
    "    plt.axis(\"off\")\n",
    "    plt.show()"
   ]
  },
  {
   "cell_type": "code",
   "execution_count": null,
   "id": "ca57d9b6-e67c-49e9-901b-253e2b053d46",
   "metadata": {},
   "outputs": [],
   "source": [
    "plot_embeddings(embeddings, labels)"
   ]
  },
  {
   "cell_type": "code",
   "execution_count": null,
   "id": "13c93866-f95d-4aa5-85d2-3c8b76f5e2c0",
   "metadata": {},
   "outputs": [],
   "source": [
    "np.save(\"embeddings.npy\", embeddings)\n",
    "np.save(\"labels.npy\", labels)\n",
    "np.save(\"paths.npy\", image_paths)"
   ]
  }
 ],
 "metadata": {
  "kernelspec": {
   "display_name": "Python 3 (ipykernel)",
   "language": "python",
   "name": "python3"
  },
  "language_info": {
   "codemirror_mode": {
    "name": "ipython",
    "version": 3
   },
   "file_extension": ".py",
   "mimetype": "text/x-python",
   "name": "python",
   "nbconvert_exporter": "python",
   "pygments_lexer": "ipython3",
   "version": "3.10.11"
  }
 },
 "nbformat": 4,
 "nbformat_minor": 5
}
